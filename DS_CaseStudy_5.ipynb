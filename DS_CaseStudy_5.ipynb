{
 "cells": [
  {
   "cell_type": "markdown",
   "id": "6591089f",
   "metadata": {},
   "source": [
    "XYZ Company has offices in four different zones. The company wishes to investigate the following :\n",
    "Help the company to carry out their study with the help of data provided."
   ]
  },
  {
   "cell_type": "code",
   "execution_count": 1,
   "id": "7ebdf752",
   "metadata": {},
   "outputs": [],
   "source": [
    "# Import the libraries\n",
    "import numpy as np\n",
    "import pandas as pd\n",
    "import matplotlib.pyplot as plt\n",
    "import seaborn as sns\n",
    "import scipy.stats as stat"
   ]
  },
  {
   "cell_type": "markdown",
   "id": "96988dba",
   "metadata": {},
   "source": [
    "### Read the Dataset to Python environment"
   ]
  },
  {
   "cell_type": "code",
   "execution_count": 2,
   "id": "1d6a963e",
   "metadata": {},
   "outputs": [
    {
     "data": {
      "text/html": [
       "<div>\n",
       "<style scoped>\n",
       "    .dataframe tbody tr th:only-of-type {\n",
       "        vertical-align: middle;\n",
       "    }\n",
       "\n",
       "    .dataframe tbody tr th {\n",
       "        vertical-align: top;\n",
       "    }\n",
       "\n",
       "    .dataframe thead th {\n",
       "        text-align: right;\n",
       "    }\n",
       "</style>\n",
       "<table border=\"1\" class=\"dataframe\">\n",
       "  <thead>\n",
       "    <tr style=\"text-align: right;\">\n",
       "      <th></th>\n",
       "      <th>Month</th>\n",
       "      <th>Zone - A</th>\n",
       "      <th>Zone - B</th>\n",
       "      <th>Zone - C</th>\n",
       "      <th>Zone - D</th>\n",
       "    </tr>\n",
       "  </thead>\n",
       "  <tbody>\n",
       "    <tr>\n",
       "      <th>0</th>\n",
       "      <td>Month - 1</td>\n",
       "      <td>1483525</td>\n",
       "      <td>1748451</td>\n",
       "      <td>1523308</td>\n",
       "      <td>2267260</td>\n",
       "    </tr>\n",
       "    <tr>\n",
       "      <th>1</th>\n",
       "      <td>Month - 2</td>\n",
       "      <td>1238428</td>\n",
       "      <td>1707421</td>\n",
       "      <td>2212113</td>\n",
       "      <td>1994341</td>\n",
       "    </tr>\n",
       "    <tr>\n",
       "      <th>2</th>\n",
       "      <td>Month - 3</td>\n",
       "      <td>1860771</td>\n",
       "      <td>2091194</td>\n",
       "      <td>1282374</td>\n",
       "      <td>1241600</td>\n",
       "    </tr>\n",
       "    <tr>\n",
       "      <th>3</th>\n",
       "      <td>Month - 4</td>\n",
       "      <td>1871571</td>\n",
       "      <td>1759617</td>\n",
       "      <td>2290580</td>\n",
       "      <td>2252681</td>\n",
       "    </tr>\n",
       "    <tr>\n",
       "      <th>4</th>\n",
       "      <td>Month - 5</td>\n",
       "      <td>1244922</td>\n",
       "      <td>1606010</td>\n",
       "      <td>1818334</td>\n",
       "      <td>1326062</td>\n",
       "    </tr>\n",
       "  </tbody>\n",
       "</table>\n",
       "</div>"
      ],
      "text/plain": [
       "       Month  Zone - A  Zone - B  Zone - C  Zone - D\n",
       "0  Month - 1   1483525   1748451   1523308   2267260\n",
       "1  Month - 2   1238428   1707421   2212113   1994341\n",
       "2  Month - 3   1860771   2091194   1282374   1241600\n",
       "3  Month - 4   1871571   1759617   2290580   2252681\n",
       "4  Month - 5   1244922   1606010   1818334   1326062"
      ]
     },
     "execution_count": 2,
     "metadata": {},
     "output_type": "execute_result"
    }
   ],
   "source": [
    "df=pd.read_csv('Sales_data_zone_wise.csv')\n",
    "df.head()"
   ]
  },
  {
   "cell_type": "markdown",
   "id": "c0d0ac12",
   "metadata": {},
   "source": [
    "### Analyse the data"
   ]
  },
  {
   "cell_type": "code",
   "execution_count": 3,
   "id": "9d85b1e5",
   "metadata": {},
   "outputs": [
    {
     "name": "stdout",
     "output_type": "stream",
     "text": [
      "<class 'pandas.core.frame.DataFrame'>\n",
      "RangeIndex: 29 entries, 0 to 28\n",
      "Data columns (total 5 columns):\n",
      " #   Column    Non-Null Count  Dtype \n",
      "---  ------    --------------  ----- \n",
      " 0   Month     29 non-null     object\n",
      " 1   Zone - A  29 non-null     int64 \n",
      " 2   Zone - B  29 non-null     int64 \n",
      " 3   Zone - C  29 non-null     int64 \n",
      " 4   Zone - D  29 non-null     int64 \n",
      "dtypes: int64(4), object(1)\n",
      "memory usage: 1.3+ KB\n"
     ]
    }
   ],
   "source": [
    "df.info()"
   ]
  },
  {
   "cell_type": "code",
   "execution_count": 4,
   "id": "ce1db1c8",
   "metadata": {},
   "outputs": [
    {
     "data": {
      "text/html": [
       "<div>\n",
       "<style scoped>\n",
       "    .dataframe tbody tr th:only-of-type {\n",
       "        vertical-align: middle;\n",
       "    }\n",
       "\n",
       "    .dataframe tbody tr th {\n",
       "        vertical-align: top;\n",
       "    }\n",
       "\n",
       "    .dataframe thead th {\n",
       "        text-align: right;\n",
       "    }\n",
       "</style>\n",
       "<table border=\"1\" class=\"dataframe\">\n",
       "  <thead>\n",
       "    <tr style=\"text-align: right;\">\n",
       "      <th></th>\n",
       "      <th>Zone - A</th>\n",
       "      <th>Zone - B</th>\n",
       "      <th>Zone - C</th>\n",
       "      <th>Zone - D</th>\n",
       "    </tr>\n",
       "  </thead>\n",
       "  <tbody>\n",
       "    <tr>\n",
       "      <th>count</th>\n",
       "      <td>2.900000e+01</td>\n",
       "      <td>2.900000e+01</td>\n",
       "      <td>2.900000e+01</td>\n",
       "      <td>2.900000e+01</td>\n",
       "    </tr>\n",
       "    <tr>\n",
       "      <th>mean</th>\n",
       "      <td>1.540493e+06</td>\n",
       "      <td>1.755560e+06</td>\n",
       "      <td>1.772871e+06</td>\n",
       "      <td>1.842927e+06</td>\n",
       "    </tr>\n",
       "    <tr>\n",
       "      <th>std</th>\n",
       "      <td>2.619401e+05</td>\n",
       "      <td>1.683899e+05</td>\n",
       "      <td>3.331937e+05</td>\n",
       "      <td>3.750165e+05</td>\n",
       "    </tr>\n",
       "    <tr>\n",
       "      <th>min</th>\n",
       "      <td>1.128185e+06</td>\n",
       "      <td>1.527574e+06</td>\n",
       "      <td>1.237722e+06</td>\n",
       "      <td>1.234311e+06</td>\n",
       "    </tr>\n",
       "    <tr>\n",
       "      <th>25%</th>\n",
       "      <td>1.305972e+06</td>\n",
       "      <td>1.606010e+06</td>\n",
       "      <td>1.523308e+06</td>\n",
       "      <td>1.520406e+06</td>\n",
       "    </tr>\n",
       "    <tr>\n",
       "      <th>50%</th>\n",
       "      <td>1.534390e+06</td>\n",
       "      <td>1.740365e+06</td>\n",
       "      <td>1.767047e+06</td>\n",
       "      <td>1.854412e+06</td>\n",
       "    </tr>\n",
       "    <tr>\n",
       "      <th>75%</th>\n",
       "      <td>1.820196e+06</td>\n",
       "      <td>1.875658e+06</td>\n",
       "      <td>2.098463e+06</td>\n",
       "      <td>2.180416e+06</td>\n",
       "    </tr>\n",
       "    <tr>\n",
       "      <th>max</th>\n",
       "      <td>2.004480e+06</td>\n",
       "      <td>2.091194e+06</td>\n",
       "      <td>2.290580e+06</td>\n",
       "      <td>2.364132e+06</td>\n",
       "    </tr>\n",
       "  </tbody>\n",
       "</table>\n",
       "</div>"
      ],
      "text/plain": [
       "           Zone - A      Zone - B      Zone - C      Zone - D\n",
       "count  2.900000e+01  2.900000e+01  2.900000e+01  2.900000e+01\n",
       "mean   1.540493e+06  1.755560e+06  1.772871e+06  1.842927e+06\n",
       "std    2.619401e+05  1.683899e+05  3.331937e+05  3.750165e+05\n",
       "min    1.128185e+06  1.527574e+06  1.237722e+06  1.234311e+06\n",
       "25%    1.305972e+06  1.606010e+06  1.523308e+06  1.520406e+06\n",
       "50%    1.534390e+06  1.740365e+06  1.767047e+06  1.854412e+06\n",
       "75%    1.820196e+06  1.875658e+06  2.098463e+06  2.180416e+06\n",
       "max    2.004480e+06  2.091194e+06  2.290580e+06  2.364132e+06"
      ]
     },
     "execution_count": 4,
     "metadata": {},
     "output_type": "execute_result"
    }
   ],
   "source": [
    "df.describe()"
   ]
  },
  {
   "cell_type": "markdown",
   "id": "8871f446",
   "metadata": {},
   "source": [
    "### 1. The mean sales generated by each zone."
   ]
  },
  {
   "cell_type": "code",
   "execution_count": 5,
   "id": "afc3ec67",
   "metadata": {},
   "outputs": [
    {
     "data": {
      "text/plain": [
       "Zone - A    1.540493e+06\n",
       "Zone - B    1.755560e+06\n",
       "Zone - C    1.772871e+06\n",
       "Zone - D    1.842927e+06\n",
       "dtype: float64"
      ]
     },
     "execution_count": 5,
     "metadata": {},
     "output_type": "execute_result"
    }
   ],
   "source": [
    "df.mean()"
   ]
  },
  {
   "cell_type": "markdown",
   "id": "58865803",
   "metadata": {},
   "source": [
    "### 2. Total sales generated by all the zones for each month."
   ]
  },
  {
   "cell_type": "code",
   "execution_count": 6,
   "id": "8870a1b6",
   "metadata": {},
   "outputs": [
    {
     "data": {
      "text/plain": [
       "0     1755636.00\n",
       "1     1788075.75\n",
       "2     1618984.75\n",
       "3     2043612.25\n",
       "4     1498832.00\n",
       "5     1787846.75\n",
       "6     1821777.00\n",
       "7     1954074.75\n",
       "8     1675848.75\n",
       "9     1782052.50\n",
       "10    1758195.75\n",
       "11    1527771.00\n",
       "12    1481356.00\n",
       "13    1788878.75\n",
       "14    1483539.00\n",
       "15    1626664.75\n",
       "16    1787345.75\n",
       "17    1770872.50\n",
       "18    1742988.25\n",
       "19    1781149.75\n",
       "20    1847399.25\n",
       "21    1890000.25\n",
       "22    1671979.75\n",
       "23    1946186.75\n",
       "24    1523979.50\n",
       "25    1628090.00\n",
       "26    1566979.50\n",
       "27    1867730.00\n",
       "28    1693069.25\n",
       "dtype: float64"
      ]
     },
     "execution_count": 6,
     "metadata": {},
     "output_type": "execute_result"
    }
   ],
   "source": [
    "df.mean(axis=1)"
   ]
  },
  {
   "cell_type": "code",
   "execution_count": 7,
   "id": "d8320a68",
   "metadata": {},
   "outputs": [
    {
     "data": {
      "image/png": "[encoded data removed]",
      "text/plain": [
       "<Figure size 720x288 with 2 Axes>"
      ]
     },
     "metadata": {
      "needs_background": "light"
     },
     "output_type": "display_data"
    }
   ],
   "source": [
    "# Identify the correlation and display using the heatmap\n",
    "corr = df.corr()\n",
    "plt.subplots(figsize = (10,4))\n",
    "sns.heatmap(corr,vmin = -1, vmax = 1, annot=True);"
   ]
  },
  {
   "cell_type": "markdown",
   "id": "dccaf759",
   "metadata": {},
   "source": [
    "### 3. Check whether all the zones generate the same amount of sales."
   ]
  },
  {
   "cell_type": "markdown",
   "id": "6adfcf8c",
   "metadata": {},
   "source": [
    "Null Hypoythesis Ho: All zones generate same amount of sales."
   ]
  },
  {
   "cell_type": "markdown",
   "id": "eff79d1e",
   "metadata": {},
   "source": [
    "Alternate Hypothesis H1: All zones generate different amount of sales. "
   ]
  },
  {
   "cell_type": "markdown",
   "id": "3695a4db",
   "metadata": {},
   "source": [
    "Confidence interval is 95%"
   ]
  },
  {
   "cell_type": "code",
   "execution_count": 8,
   "id": "f435e035",
   "metadata": {},
   "outputs": [],
   "source": [
    "F,p = stat.f_oneway(df['Zone - A'],df['Zone - B'],df['Zone - C'],df['Zone - D'])"
   ]
  },
  {
   "cell_type": "code",
   "execution_count": 9,
   "id": "9a4f9309",
   "metadata": {},
   "outputs": [
    {
     "name": "stdout",
     "output_type": "stream",
     "text": [
      " F-statistic is 5.672056106843581 \n",
      " p-value is 0.0011827601694503335\n"
     ]
    }
   ],
   "source": [
    "print(\" F-statistic is {0} \\n p-value is {1}\".format(F,p))"
   ]
  },
  {
   "cell_type": "code",
   "execution_count": 10,
   "id": "00e2ca4d",
   "metadata": {},
   "outputs": [
    {
     "name": "stdout",
     "output_type": "stream",
     "text": [
      "Reject null hypothesis, which indicates All zones generate different amount of sales.\n"
     ]
    }
   ],
   "source": [
    "if p<0.05:\n",
    "    print(\"Reject null hypothesis, which indicates All zones generate different amount of sales.\")\n",
    "else:\n",
    "    print(\"Accept null hypothesis, which indicates All zones generate same amount of sales.\") "
   ]
  },
  {
   "cell_type": "code",
   "execution_count": null,
   "id": "cb94ef0b",
   "metadata": {},
   "outputs": [],
   "source": []
  }
 ],
 "metadata": {
  "kernelspec": {
   "display_name": "Python 3",
   "language": "python",
   "name": "python3"
  },
  "language_info": {
   "codemirror_mode": {
    "name": "ipython",
    "version": 3
   },
   "file_extension": ".py",
   "mimetype": "text/x-python",
   "name": "python",
   "nbconvert_exporter": "python",
   "pygments_lexer": "ipython3",
   "version": "3.8.8"
  }
 },
 "nbformat": 4,
 "nbformat_minor": 5
}
